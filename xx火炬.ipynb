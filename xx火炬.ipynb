{
  "nbformat": 4,
  "nbformat_minor": 0,
  "metadata": {
    "colab": {
      "name": "xx火炬.ipynb",
      "provenance": [],
      "collapsed_sections": [],
      "authorship_tag": "ABX9TyNqBxV0eXmbkl4+nej0N16L",
      "include_colab_link": true
    },
    "kernelspec": {
      "name": "python3",
      "display_name": "Python 3"
    }
  },
  "cells": [
    {
      "cell_type": "markdown",
      "metadata": {
        "id": "view-in-github",
        "colab_type": "text"
      },
      "source": [
        "<a href=\"https://colab.research.google.com/github/gott51010/zhenXiang/blob/master/xx%E7%81%AB%E7%82%AC.ipynb\" target=\"_parent\"><img src=\"https://colab.research.google.com/assets/colab-badge.svg\" alt=\"Open In Colab\"/></a>"
      ]
    },
    {
      "cell_type": "code",
      "metadata": {
        "colab": {
          "base_uri": "https://localhost:8080/",
          "height": 36
        },
        "id": "M7DONcyG-kmL",
        "outputId": "abf8d91c-e144-4a82-9ece-30ea0b1e0bed"
      },
      "source": [
        "import torch\r\n",
        "torch.__version__"
      ],
      "execution_count": 8,
      "outputs": [
        {
          "output_type": "execute_result",
          "data": {
            "application/vnd.google.colaboratory.intrinsic+json": {
              "type": "string"
            },
            "text/plain": [
              "'1.7.0+cu101'"
            ]
          },
          "metadata": {
            "tags": []
          },
          "execution_count": 8
        }
      ]
    },
    {
      "cell_type": "code",
      "metadata": {
        "id": "-Zyol_lJ_GSk"
      },
      "source": [
        "x = torch.empty(5,3)"
      ],
      "execution_count": 4,
      "outputs": []
    },
    {
      "cell_type": "code",
      "metadata": {
        "colab": {
          "base_uri": "https://localhost:8080/"
        },
        "id": "A2VIEcMi_aRJ",
        "outputId": "5cf11c95-0abb-4a0e-a991-3a40773c76e3"
      },
      "source": [
        "x"
      ],
      "execution_count": 5,
      "outputs": [
        {
          "output_type": "execute_result",
          "data": {
            "text/plain": [
              "tensor([[3.2863e-35, 0.0000e+00, 5.0447e-44],\n",
              "        [0.0000e+00,        nan, 0.0000e+00],\n",
              "        [1.3788e-14, 1.8369e+28, 1.9433e-19],\n",
              "        [3.3738e-12, 7.4086e+28, 6.9397e+22],\n",
              "        [1.7260e+25, 2.2856e+20, 5.0948e-14]])"
            ]
          },
          "metadata": {
            "tags": []
          },
          "execution_count": 5
        }
      ]
    },
    {
      "cell_type": "code",
      "metadata": {
        "id": "HuZegz62_lnW"
      },
      "source": [
        "x = torch.rand(5,3)"
      ],
      "execution_count": 6,
      "outputs": []
    },
    {
      "cell_type": "code",
      "metadata": {
        "colab": {
          "base_uri": "https://localhost:8080/"
        },
        "id": "ZZrsl5DE_tc8",
        "outputId": "e9798921-a7e0-463f-93f3-3a8be2789e2f"
      },
      "source": [
        "x"
      ],
      "execution_count": 7,
      "outputs": [
        {
          "output_type": "execute_result",
          "data": {
            "text/plain": [
              "tensor([[0.7248, 0.4810, 0.0284],\n",
              "        [0.7503, 0.6397, 0.2915],\n",
              "        [0.4666, 0.1847, 0.1388],\n",
              "        [0.5711, 0.6253, 0.8228],\n",
              "        [0.9728, 0.1579, 0.4765]])"
            ]
          },
          "metadata": {
            "tags": []
          },
          "execution_count": 7
        }
      ]
    },
    {
      "cell_type": "code",
      "metadata": {
        "id": "ZHctutk3A1i7"
      },
      "source": [
        "x = torch.zeros(5,3,dtype=torch.long)"
      ],
      "execution_count": 9,
      "outputs": []
    },
    {
      "cell_type": "code",
      "metadata": {
        "colab": {
          "base_uri": "https://localhost:8080/"
        },
        "id": "jLuA3SdhBB3Q",
        "outputId": "61611bb6-3e27-4e17-b26a-53953899fef0"
      },
      "source": [
        "x"
      ],
      "execution_count": 10,
      "outputs": [
        {
          "output_type": "execute_result",
          "data": {
            "text/plain": [
              "tensor([[0, 0, 0],\n",
              "        [0, 0, 0],\n",
              "        [0, 0, 0],\n",
              "        [0, 0, 0],\n",
              "        [0, 0, 0]])"
            ]
          },
          "metadata": {
            "tags": []
          },
          "execution_count": 10
        }
      ]
    },
    {
      "cell_type": "code",
      "metadata": {
        "colab": {
          "base_uri": "https://localhost:8080/"
        },
        "id": "2taIpXlHBHuw",
        "outputId": "f5f47496-1c86-4bc9-ee32-307acbb45968"
      },
      "source": [
        "x = torch.tensor([555,3.3])\r\n",
        "x"
      ],
      "execution_count": 12,
      "outputs": [
        {
          "output_type": "execute_result",
          "data": {
            "text/plain": [
              "tensor([555.0000,   3.3000])"
            ]
          },
          "metadata": {
            "tags": []
          },
          "execution_count": 12
        }
      ]
    },
    {
      "cell_type": "code",
      "metadata": {
        "colab": {
          "base_uri": "https://localhost:8080/"
        },
        "id": "FscUX0NVBqAl",
        "outputId": "f6e6691f-7880-4bb8-dd33-d7348eea6436"
      },
      "source": [
        "x = x.new_ones(5, 3, dtype=torch.float64) \r\n",
        "x"
      ],
      "execution_count": 13,
      "outputs": [
        {
          "output_type": "execute_result",
          "data": {
            "text/plain": [
              "tensor([[1., 1., 1.],\n",
              "        [1., 1., 1.],\n",
              "        [1., 1., 1.],\n",
              "        [1., 1., 1.],\n",
              "        [1., 1., 1.]], dtype=torch.float64)"
            ]
          },
          "metadata": {
            "tags": []
          },
          "execution_count": 13
        }
      ]
    },
    {
      "cell_type": "code",
      "metadata": {
        "colab": {
          "base_uri": "https://localhost:8080/"
        },
        "id": "07_eui_MB34A",
        "outputId": "4829dd27-b6a5-4673-c46e-d5fbccb4daaa"
      },
      "source": [
        "x = torch.randn_like(x, dtype=torch.float)\r\n",
        "x"
      ],
      "execution_count": 14,
      "outputs": [
        {
          "output_type": "execute_result",
          "data": {
            "text/plain": [
              "tensor([[-0.9103,  0.4504,  0.0096],\n",
              "        [ 0.7740,  1.2200,  1.2668],\n",
              "        [-1.1789, -0.0970,  0.1892],\n",
              "        [-2.5442,  0.2846,  0.7140],\n",
              "        [ 0.6550,  0.5176,  0.1504]])"
            ]
          },
          "metadata": {
            "tags": []
          },
          "execution_count": 14
        }
      ]
    },
    {
      "cell_type": "code",
      "metadata": {
        "colab": {
          "base_uri": "https://localhost:8080/"
        },
        "id": "betJ5EpzCNu9",
        "outputId": "feb30b8f-4b21-4ab2-bd40-40ad633325f3"
      },
      "source": [
        "print(x.size())\r\n",
        "print(x.shape)"
      ],
      "execution_count": 17,
      "outputs": [
        {
          "output_type": "stream",
          "text": [
            "torch.Size([5, 3])\n",
            "torch.Size([5, 3])\n"
          ],
          "name": "stdout"
        }
      ]
    },
    {
      "cell_type": "code",
      "metadata": {
        "colab": {
          "base_uri": "https://localhost:8080/"
        },
        "id": "0DuW5tYLCUGs",
        "outputId": "cd9bc4b2-c3ce-43e9-9ae5-0517c1d4874d"
      },
      "source": [
        "x"
      ],
      "execution_count": 18,
      "outputs": [
        {
          "output_type": "execute_result",
          "data": {
            "text/plain": [
              "tensor([[-0.9103,  0.4504,  0.0096],\n",
              "        [ 0.7740,  1.2200,  1.2668],\n",
              "        [-1.1789, -0.0970,  0.1892],\n",
              "        [-2.5442,  0.2846,  0.7140],\n",
              "        [ 0.6550,  0.5176,  0.1504]])"
            ]
          },
          "metadata": {
            "tags": []
          },
          "execution_count": 18
        }
      ]
    },
    {
      "cell_type": "code",
      "metadata": {
        "colab": {
          "base_uri": "https://localhost:8080/"
        },
        "id": "vf7A1h-aDsPP",
        "outputId": "f34af839-740b-49e5-b1b7-7b010d28d0f7"
      },
      "source": [
        "y = torch.rand(5, 3)\r\n",
        "y"
      ],
      "execution_count": 24,
      "outputs": [
        {
          "output_type": "execute_result",
          "data": {
            "text/plain": [
              "tensor([[0.4436, 0.0431, 0.5184],\n",
              "        [0.5279, 0.5360, 0.2741],\n",
              "        [0.1370, 0.8664, 0.5792],\n",
              "        [0.0980, 0.4981, 0.8555],\n",
              "        [0.0256, 0.1700, 0.6799]])"
            ]
          },
          "metadata": {
            "tags": []
          },
          "execution_count": 24
        }
      ]
    },
    {
      "cell_type": "code",
      "metadata": {
        "colab": {
          "base_uri": "https://localhost:8080/"
        },
        "id": "vkA9DhbADo_R",
        "outputId": "b5a7f821-65e7-4275-8445-c2f9b2145730"
      },
      "source": [
        "print( x + y)"
      ],
      "execution_count": 25,
      "outputs": [
        {
          "output_type": "stream",
          "text": [
            "tensor([[-0.4666,  0.4936,  0.5279],\n",
            "        [ 1.3019,  1.7560,  1.5409],\n",
            "        [-1.0419,  0.7694,  0.7684],\n",
            "        [-2.4462,  0.7827,  1.5695],\n",
            "        [ 0.6806,  0.6876,  0.8303]])\n"
          ],
          "name": "stdout"
        }
      ]
    },
    {
      "cell_type": "code",
      "metadata": {
        "colab": {
          "base_uri": "https://localhost:8080/"
        },
        "id": "bETZcX8XDz_Q",
        "outputId": "c13f10e7-86fa-48c1-c727-b262926e9664"
      },
      "source": [
        "torch.add(x, y)"
      ],
      "execution_count": 26,
      "outputs": [
        {
          "output_type": "execute_result",
          "data": {
            "text/plain": [
              "tensor([[-0.4666,  0.4936,  0.5279],\n",
              "        [ 1.3019,  1.7560,  1.5409],\n",
              "        [-1.0419,  0.7694,  0.7684],\n",
              "        [-2.4462,  0.7827,  1.5695],\n",
              "        [ 0.6806,  0.6876,  0.8303]])"
            ]
          },
          "metadata": {
            "tags": []
          },
          "execution_count": 26
        }
      ]
    },
    {
      "cell_type": "code",
      "metadata": {
        "colab": {
          "base_uri": "https://localhost:8080/"
        },
        "id": "ThONE8qHEA4M",
        "outputId": "f12a9ddd-c463-460f-e449-03e68e833afa"
      },
      "source": [
        "result = torch.empty(5, 3)\r\n",
        "torch.add(x, y, out=result)\r\n",
        "print(result)"
      ],
      "execution_count": 27,
      "outputs": [
        {
          "output_type": "stream",
          "text": [
            "tensor([[-0.4666,  0.4936,  0.5279],\n",
            "        [ 1.3019,  1.7560,  1.5409],\n",
            "        [-1.0419,  0.7694,  0.7684],\n",
            "        [-2.4462,  0.7827,  1.5695],\n",
            "        [ 0.6806,  0.6876,  0.8303]])\n"
          ],
          "name": "stdout"
        }
      ]
    },
    {
      "cell_type": "code",
      "metadata": {
        "colab": {
          "base_uri": "https://localhost:8080/"
        },
        "id": "-CagS0EbGQtt",
        "outputId": "2d0cf0f0-6575-4853-af42-6af3ca5a375a"
      },
      "source": [
        "result = torch.empty(5, 3, dtype=torch.float64)\r\n",
        "torch.add(x, y, out=result)\r\n",
        "print(result)"
      ],
      "execution_count": 37,
      "outputs": [
        {
          "output_type": "stream",
          "text": [
            "tensor([[ 2.1795,  4.9008,  4.0191],\n",
            "        [ 1.8637,  3.6704,  3.2764],\n",
            "        [-0.0891,  2.3534,  2.1988],\n",
            "        [-1.4544,  2.7350,  2.7236],\n",
            "        [ 1.7447,  2.9680,  2.1599]], dtype=torch.float64)\n"
          ],
          "name": "stdout"
        }
      ]
    },
    {
      "cell_type": "code",
      "metadata": {
        "colab": {
          "base_uri": "https://localhost:8080/"
        },
        "id": "sDLaxpumH_N2",
        "outputId": "7cc99db2-30f3-4188-cd8f-a52ebea8a5b8"
      },
      "source": [
        "x"
      ],
      "execution_count": 43,
      "outputs": [
        {
          "output_type": "execute_result",
          "data": {
            "text/plain": [
              "tensor([[ 2.0897,  3.4504,  3.0096],\n",
              "        [ 0.7740,  1.2200,  1.2668],\n",
              "        [-1.1789, -0.0970,  0.1892],\n",
              "        [-2.5442,  0.2846,  0.7140],\n",
              "        [ 0.6550,  0.5176,  0.1504]])"
            ]
          },
          "metadata": {
            "tags": []
          },
          "execution_count": 43
        }
      ]
    },
    {
      "cell_type": "code",
      "metadata": {
        "colab": {
          "base_uri": "https://localhost:8080/"
        },
        "id": "ZQIai9iAHkvg",
        "outputId": "d4a41a93-383f-4876-b921-fb2168950f95"
      },
      "source": [
        " x[0, :]"
      ],
      "execution_count": 53,
      "outputs": [
        {
          "output_type": "execute_result",
          "data": {
            "text/plain": [
              "tensor([2.0897, 3.4504, 3.0096])"
            ]
          },
          "metadata": {
            "tags": []
          },
          "execution_count": 53
        }
      ]
    },
    {
      "cell_type": "code",
      "metadata": {
        "id": "AcI-Q5-CKqEJ"
      },
      "source": [
        "import copy"
      ],
      "execution_count": 51,
      "outputs": []
    },
    {
      "cell_type": "code",
      "metadata": {
        "colab": {
          "base_uri": "https://localhost:8080/"
        },
        "id": "95KenW4uG1uZ",
        "outputId": "288c24cd-bfc5-4a93-db35-9c78c6449d02"
      },
      "source": [
        "y = copy.deepcopy(x[0, :])\r\n",
        "y += 1\r\n",
        "print(y)\r\n",
        "print(x[0, :])"
      ],
      "execution_count": 52,
      "outputs": [
        {
          "output_type": "stream",
          "text": [
            "tensor([3.0897, 4.4504, 4.0096])\n",
            "tensor([2.0897, 3.4504, 3.0096])\n"
          ],
          "name": "stdout"
        }
      ]
    },
    {
      "cell_type": "code",
      "metadata": {
        "colab": {
          "base_uri": "https://localhost:8080/"
        },
        "id": "4v_DzHX8HxrU",
        "outputId": "70454769-2156-4173-b7d1-bc33582b25b6"
      },
      "source": [
        "x"
      ],
      "execution_count": 54,
      "outputs": [
        {
          "output_type": "execute_result",
          "data": {
            "text/plain": [
              "tensor([[ 2.0897,  3.4504,  3.0096],\n",
              "        [ 0.7740,  1.2200,  1.2668],\n",
              "        [-1.1789, -0.0970,  0.1892],\n",
              "        [-2.5442,  0.2846,  0.7140],\n",
              "        [ 0.6550,  0.5176,  0.1504]])"
            ]
          },
          "metadata": {
            "tags": []
          },
          "execution_count": 54
        }
      ]
    },
    {
      "cell_type": "code",
      "metadata": {
        "id": "Y47r_Mu_K-IH"
      },
      "source": [
        "y = x.view(15)"
      ],
      "execution_count": 55,
      "outputs": []
    },
    {
      "cell_type": "code",
      "metadata": {
        "colab": {
          "base_uri": "https://localhost:8080/"
        },
        "id": "96BCQ7z3LCS-",
        "outputId": "5cf17bee-3835-482c-c030-783fe0f75e46"
      },
      "source": [
        "y"
      ],
      "execution_count": 56,
      "outputs": [
        {
          "output_type": "execute_result",
          "data": {
            "text/plain": [
              "tensor([ 2.0897,  3.4504,  3.0096,  0.7740,  1.2200,  1.2668, -1.1789, -0.0970,\n",
              "         0.1892, -2.5442,  0.2846,  0.7140,  0.6550,  0.5176,  0.1504])"
            ]
          },
          "metadata": {
            "tags": []
          },
          "execution_count": 56
        }
      ]
    },
    {
      "cell_type": "code",
      "metadata": {
        "id": "_ma05TuuLR2F"
      },
      "source": [
        "y2 = x.view(-1,5)"
      ],
      "execution_count": 57,
      "outputs": []
    },
    {
      "cell_type": "code",
      "metadata": {
        "colab": {
          "base_uri": "https://localhost:8080/"
        },
        "id": "TEMR_RUoLV49",
        "outputId": "a98d2aa6-0a3d-4501-c36b-dead9ccb439c"
      },
      "source": [
        "y2"
      ],
      "execution_count": 58,
      "outputs": [
        {
          "output_type": "execute_result",
          "data": {
            "text/plain": [
              "tensor([[ 2.0897,  3.4504,  3.0096,  0.7740,  1.2200],\n",
              "        [ 1.2668, -1.1789, -0.0970,  0.1892, -2.5442],\n",
              "        [ 0.2846,  0.7140,  0.6550,  0.5176,  0.1504]])"
            ]
          },
          "metadata": {
            "tags": []
          },
          "execution_count": 58
        }
      ]
    },
    {
      "cell_type": "code",
      "metadata": {
        "colab": {
          "base_uri": "https://localhost:8080/"
        },
        "id": "IgD2QemGLf6r",
        "outputId": "0e767c59-e87a-408d-ae16-9ef4712ece26"
      },
      "source": [
        "print(x.size(), y.size(), y2.size())"
      ],
      "execution_count": 59,
      "outputs": [
        {
          "output_type": "stream",
          "text": [
            "torch.Size([5, 3]) torch.Size([15]) torch.Size([3, 5])\n"
          ],
          "name": "stdout"
        }
      ]
    },
    {
      "cell_type": "code",
      "metadata": {
        "colab": {
          "base_uri": "https://localhost:8080/"
        },
        "id": "S_SIhm0TL46H",
        "outputId": "0eadbcb5-ec7f-4b87-eac3-f0652bd489ed"
      },
      "source": [
        "x_cp = x.clone().view(15)\r\n",
        "x -= 1\r\n",
        "print(x)\r\n",
        "print(x_cp)"
      ],
      "execution_count": 60,
      "outputs": [
        {
          "output_type": "stream",
          "text": [
            "tensor([[ 1.0897,  2.4504,  2.0096],\n",
            "        [-0.2260,  0.2200,  0.2668],\n",
            "        [-2.1789, -1.0970, -0.8108],\n",
            "        [-3.5442, -0.7154, -0.2860],\n",
            "        [-0.3450, -0.4824, -0.8496]])\n",
            "tensor([ 2.0897,  3.4504,  3.0096,  0.7740,  1.2200,  1.2668, -1.1789, -0.0970,\n",
            "         0.1892, -2.5442,  0.2846,  0.7140,  0.6550,  0.5176,  0.1504])\n"
          ],
          "name": "stdout"
        }
      ]
    },
    {
      "cell_type": "code",
      "metadata": {
        "colab": {
          "base_uri": "https://localhost:8080/"
        },
        "id": "ozww2RKxMNqE",
        "outputId": "03a7e570-9560-4273-b2d0-9950942f8dff"
      },
      "source": [
        "x = torch.randn(1)\r\n",
        "print(x)\r\n",
        "print(x.item())"
      ],
      "execution_count": 62,
      "outputs": [
        {
          "output_type": "stream",
          "text": [
            "tensor([-0.3436])\n",
            "-0.3435654938220978\n"
          ],
          "name": "stdout"
        }
      ]
    },
    {
      "cell_type": "code",
      "metadata": {
        "colab": {
          "base_uri": "https://localhost:8080/"
        },
        "id": "ikTxMNOkMcs_",
        "outputId": "baf382f5-795e-42cb-983a-8555b0f230f4"
      },
      "source": [
        "x = torch.arange(1, 3).view(1, 2)\r\n",
        "print(x)\r\n",
        "y = torch.arange(1, 4).view(3, 1)\r\n",
        "print(y)\r\n",
        "print(x + y)"
      ],
      "execution_count": 63,
      "outputs": [
        {
          "output_type": "stream",
          "text": [
            "tensor([[1, 2]])\n",
            "tensor([[1],\n",
            "        [2],\n",
            "        [3]])\n",
            "tensor([[2, 3],\n",
            "        [3, 4],\n",
            "        [4, 5]])\n"
          ],
          "name": "stdout"
        }
      ]
    }
  ]
}