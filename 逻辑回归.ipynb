{
  "nbformat": 4,
  "nbformat_minor": 0,
  "metadata": {
    "colab": {
      "name": "逻辑回归.ipynb",
      "provenance": [],
      "collapsed_sections": [],
      "authorship_tag": "ABX9TyO8SIQsmKJ9X8eVj5IS3uUZ",
      "include_colab_link": true
    },
    "kernelspec": {
      "name": "python3",
      "display_name": "Python 3"
    }
  },
  "cells": [
    {
      "cell_type": "markdown",
      "metadata": {
        "id": "view-in-github",
        "colab_type": "text"
      },
      "source": [
        "<a href=\"https://colab.research.google.com/github/gott51010/zhenXiang/blob/master/%E9%80%BB%E8%BE%91%E5%9B%9E%E5%BD%92.ipynb\" target=\"_parent\"><img src=\"https://colab.research.google.com/assets/colab-badge.svg\" alt=\"Open In Colab\"/></a>"
      ]
    },
    {
      "cell_type": "code",
      "metadata": {
        "id": "oI_X_s6Yn1uT"
      },
      "source": [
        "# 4.1 Demo实践\r\n",
        "# Step1:库函数导入"
      ],
      "execution_count": null,
      "outputs": []
    },
    {
      "cell_type": "code",
      "metadata": {
        "id": "5IUQd8Fyocw4"
      },
      "source": [
        "import numpy as np\r\n",
        "import matplotlib.pyplot as plt\r\n",
        "import seaborn as sns\r\n",
        "\r\n",
        "from sklearn.linear_model import LogisticRegression "
      ],
      "execution_count": 9,
      "outputs": []
    },
    {
      "cell_type": "code",
      "metadata": {
        "id": "Gosk0ZBqpQwo"
      },
      "source": [
        "## 构造数据集\r\n",
        "x_fearures = np.array([[-1, -2], [-2, -1], [-3, -2], [1, 3], [2, 1], [3, 2]])\r\n",
        "y_label = np.array([0, 0, 0, 1, 1, 1])\r\n",
        "\r\n",
        "lr_clf = LogisticRegression() \r\n"
      ],
      "execution_count": 20,
      "outputs": []
    },
    {
      "cell_type": "code",
      "metadata": {
        "id": "ZIWcMosZq20K"
      },
      "source": [
        "#其拟合方程为 y=w0+w1*x1+w2*x2\r\n",
        "lr_clf = lr_clf.fit(x_fearures,y_label)"
      ],
      "execution_count": 22,
      "outputs": []
    },
    {
      "cell_type": "code",
      "metadata": {
        "colab": {
          "base_uri": "https://localhost:8080/"
        },
        "id": "e5HB7SzsrSg7",
        "outputId": "84730247-84b5-4dfd-a1b2-dfaf23dc202e"
      },
      "source": [
        "lr_clf"
      ],
      "execution_count": 18,
      "outputs": [
        {
          "output_type": "execute_result",
          "data": {
            "text/plain": [
              "LogisticRegression(C=1.0, class_weight=None, dual=False, fit_intercept=True,\n",
              "                   intercept_scaling=1, l1_ratio=None, max_iter=100,\n",
              "                   multi_class='auto', n_jobs=None, penalty='l2',\n",
              "                   random_state=None, solver='lbfgs', tol=0.0001, verbose=0,\n",
              "                   warm_start=False)"
            ]
          },
          "metadata": {
            "tags": []
          },
          "execution_count": 18
        }
      ]
    },
    {
      "cell_type": "code",
      "metadata": {
        "colab": {
          "base_uri": "https://localhost:8080/"
        },
        "id": "hE-vaNZgrdLg",
        "outputId": "1b2afaef-897b-4a5e-996d-414b8eb22eaf"
      },
      "source": [
        "## 查看其对应模型的w\r\n",
        "lr_clf.coef_"
      ],
      "execution_count": 23,
      "outputs": [
        {
          "output_type": "execute_result",
          "data": {
            "text/plain": [
              "array([[0.73455784, 0.69539712]])"
            ]
          },
          "metadata": {
            "tags": []
          },
          "execution_count": 23
        }
      ]
    },
    {
      "cell_type": "code",
      "metadata": {
        "colab": {
          "base_uri": "https://localhost:8080/"
        },
        "id": "XSHqMDcxruo4",
        "outputId": "7735714b-d5c6-4d12-c864-2075e58924e0"
      },
      "source": [
        "## 查看其对应模型的w0\r\n",
        "print('the intercept(w0) of Logistic Regression:',lr_clf.intercept_)"
      ],
      "execution_count": 24,
      "outputs": [
        {
          "output_type": "stream",
          "text": [
            "the intercept(w0) of Logistic Regression: [-0.13139986]\n"
          ],
          "name": "stdout"
        }
      ]
    },
    {
      "cell_type": "code",
      "metadata": {
        "id": "dwNNV9HOtfjz"
      },
      "source": [
        ""
      ],
      "execution_count": null,
      "outputs": []
    }
  ]
}